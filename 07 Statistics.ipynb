{
 "cells": [
  {
   "cell_type": "markdown",
   "metadata": {},
   "source": [
    "References:\n",
    "\n",
    "https://realpython.com/python-statistics/"
   ]
  },
  {
   "cell_type": "code",
   "execution_count": 64,
   "metadata": {},
   "outputs": [],
   "source": [
    "import math #Mathematical functions\n",
    "\n",
    "import matplotlib.pyplot as plt #Plots\n",
    "import matplotlib.mlab as mlab  #Mat lab commands\n",
    "\n",
    "import numpy as np #Arrays\n",
    "import pandas as pd #Data management\n",
    "\n",
    "import statistics #Basic statistics from python. Not so popular\n",
    "import time #To create a stopwatch\n"
   ]
  },
  {
   "cell_type": "markdown",
   "metadata": {},
   "source": [
    "# Descripive Statistics"
   ]
  },
  {
   "cell_type": "code",
   "execution_count": 2,
   "metadata": {},
   "outputs": [
    {
     "name": "stdout",
     "output_type": "stream",
     "text": [
      "Mean: 0.5000897263462812\n",
      "\n",
      "Time spend: 15.643796920776367\n"
     ]
    }
   ],
   "source": [
    "#Aritmetic mean with statistics:\n",
    "\n",
    "Start_time = time.time() #Saving current time\n",
    "\n",
    "x = np.random.random(10000000)\n",
    "\n",
    "x_mean = statistics.mean(x)\n",
    "\n",
    "print('Mean:', x_mean)\n",
    "\n",
    "End_time = time.time() #Saving current time\n",
    "\n",
    "print('\\nTime spend:', End_time - Start_time )"
   ]
  },
  {
   "cell_type": "code",
   "execution_count": 3,
   "metadata": {},
   "outputs": [
    {
     "name": "stdout",
     "output_type": "stream",
     "text": [
      "Mean: 0.5000188330174429\n",
      "\n",
      "Time spend: 1.1269497871398926\n"
     ]
    }
   ],
   "source": [
    "#Aritmetic mean with Numpy\n",
    "\n",
    "Start_time = time.time() #Saving current time\n",
    "\n",
    "x = np.random.random(100000000)\n",
    "x_mean = np.mean(x)\n",
    "\n",
    "print('Mean:', x_mean)\n",
    "\n",
    "End_time = time.time() #Saving current time\n",
    "\n",
    "print('\\nTime spend:', End_time - Start_time )"
   ]
  },
  {
   "cell_type": "code",
   "execution_count": 4,
   "metadata": {},
   "outputs": [
    {
     "name": "stdout",
     "output_type": "stream",
     "text": [
      "Data: [ 2.  1.  5.  6. nan  3.  8.]\n",
      "\n",
      "Statistics Mean: nan\n",
      "\n",
      "Numpy Mean: nan\n",
      "\n",
      "Numpy Mean: 4.166666666666667\n"
     ]
    }
   ],
   "source": [
    "#Arithmetic mean with nan (no arithmetic number)\n",
    "#nan is used to fill missing values\n",
    "\n",
    "x = np.array([2, 1, 5, 6,math.nan, 3, 8])\n",
    "print('Data:', x)\n",
    "\n",
    "x_mean = statistics.mean(x)\n",
    "print('\\nStatistics Mean:', x_mean)\n",
    "\n",
    "x_mean = np.mean(x)\n",
    "print('\\nNumpy Mean:', x_mean)\n",
    "\n",
    "x_mean = np.nanmean(x)\n",
    "print('\\nNumpy Mean:', x_mean)\n"
   ]
  },
  {
   "cell_type": "code",
   "execution_count": 5,
   "metadata": {},
   "outputs": [
    {
     "name": "stdout",
     "output_type": "stream",
     "text": [
      "AX278 Rate: 77.72727272727273\n",
      "\n",
      "TR410 Rate: 86.36363636363636\n"
     ]
    }
   ],
   "source": [
    "#Weighted mean\n",
    "\n",
    "Weights = np.array([50,30,20,10])\n",
    "AX278 = np.array([80, 60, 90, 95])\n",
    "TR410 = np.array([90, 95, 80, 55])\n",
    "\n",
    "print('AX278 Rate:', np.average(AX278, weights = Weights))\n",
    "print('\\nTR410 Rate:', np.average(TR410, weights = Weights))"
   ]
  },
  {
   "cell_type": "code",
   "execution_count": 6,
   "metadata": {},
   "outputs": [
    {
     "name": "stdout",
     "output_type": "stream",
     "text": [
      "Geometric mean: 1.0392487388436205\n"
     ]
    }
   ],
   "source": [
    "#Geometric mean.\n",
    "\n",
    "from scipy.stats.mstats import gmean #importing the function gmean only\n",
    "\n",
    "x = [1.05, 1.02, 1.05, 1.10, 0.98]\n",
    "\n",
    "print('Geometric mean:',gmean(x))"
   ]
  },
  {
   "cell_type": "code",
   "execution_count": 7,
   "metadata": {},
   "outputs": [
    {
     "name": "stdout",
     "output_type": "stream",
     "text": [
      "Harmonic mean: 19.047619047619047\n"
     ]
    }
   ],
   "source": [
    "#Harmonic mean\n",
    "\n",
    "from scipy.stats.mstats import hmean #importing the function hmean only\n",
    "\n",
    "x = [25, 10, 20, 50]\n",
    "\n",
    "print('Harmonic mean:',hmean(x))"
   ]
  },
  {
   "cell_type": "code",
   "execution_count": 8,
   "metadata": {},
   "outputs": [
    {
     "name": "stdout",
     "output_type": "stream",
     "text": [
      "Outcome: [ 2  3  4  5  6  7  8  9 10 11 12]\n",
      "\n",
      "Probability Step I:  [0.028 0.056 0.083 0.111 0.139 0.167]\n",
      "\n",
      "Probability Step II: [0.139 0.111 0.083 0.056 0.028]\n",
      "\n",
      "Probability Final: [0.028 0.056 0.083 0.111 0.139 0.167 0.139 0.111 0.083 0.056 0.028]\n",
      "\n",
      "Mean: 7.0\n"
     ]
    }
   ],
   "source": [
    "#Probability distribution mean using a pair of dice\n",
    "\n",
    "x = np.arange(2, 13, 1)\n",
    "print('Outcome:', x)\n",
    "\n",
    "px = np.array([(i+1)/36 for i in range(6)])  #Direct coding\n",
    "print('\\nProbability Step I: ', np.round(px,3))\n",
    "\n",
    "aux = np.flip(px[0:5])\n",
    "print('\\nProbability Step II:', np.round(aux,3))\n",
    "\n",
    "px = np.append(px,aux)\n",
    "print('\\nProbability Final:',np.round(px,3))\n",
    "\n",
    "print('\\nMean:', np.dot(x,px))"
   ]
  },
  {
   "cell_type": "code",
   "execution_count": 9,
   "metadata": {},
   "outputs": [
    {
     "name": "stdout",
     "output_type": "stream",
     "text": [
      "Median:, 2.5\n",
      "Median:, 2.5\n"
     ]
    }
   ],
   "source": [
    "#Median\n",
    "x = np.array([4, 2, 3, 1])\n",
    "print('Median:,',np.median(x))\n",
    "\n",
    "x = np.array([4, 2, np.nan, 3, 1]) #math.nan and np.nan are equivalent\n",
    "print('Median:,',np.nanmedian(x)) #Function nanmedian will skip nan values"
   ]
  },
  {
   "cell_type": "code",
   "execution_count": 10,
   "metadata": {},
   "outputs": [
    {
     "name": "stdout",
     "output_type": "stream",
     "text": [
      "ModeResult(mode=array([3.]), count=array([3.]))\n"
     ]
    }
   ],
   "source": [
    "#Mode\n",
    "\n",
    "from scipy.stats.mstats import mode #importing the function mode only\n",
    "\n",
    "x = np.array([4, 2, 3, 1, 3, 3, 2, math.nan])\n",
    "print(mode(x))\n",
    "\n"
   ]
  },
  {
   "cell_type": "code",
   "execution_count": 11,
   "metadata": {},
   "outputs": [
    {
     "name": "stdout",
     "output_type": "stream",
     "text": [
      "Mode: Dog appears 2 times\n"
     ]
    }
   ],
   "source": [
    "#Mode for elements\n",
    "\n",
    "x = ['Dog', 'Cat', 'Dog', 'cat'] #This is a list, not an array\n",
    "\n",
    "count, mode = max((x.count(item), item) for item in set(x))\n",
    "\n",
    "print('Mode:', mode, 'appears', count, 'times')"
   ]
  },
  {
   "cell_type": "code",
   "execution_count": 12,
   "metadata": {},
   "outputs": [
    {
     "name": "stdout",
     "output_type": "stream",
     "text": [
      "20th percentile 3.6\n",
      "25th percentile 4.5\n",
      "50th percentile 9.0\n",
      "75th percentile 13.5\n",
      "90th percentile 16.2\n",
      "98th percentile 17.64\n"
     ]
    }
   ],
   "source": [
    "#Percentiles\n",
    "\n",
    "x = np.array([0, 2, 4, 6, 8, 10, 12, 14, 16, 18])\n",
    "\n",
    "print('20th percentile', np.percentile(x, 20))\n",
    "print('25th percentile', np.percentile(x, 25))\n",
    "print('50th percentile', np.percentile(x, 50))\n",
    "print('75th percentile', np.percentile(x, 75))\n",
    "print('90th percentile', np.percentile(x, 90))\n",
    "print('98th percentile', np.percentile(x, 98))\n"
   ]
  },
  {
   "cell_type": "code",
   "execution_count": 13,
   "metadata": {},
   "outputs": [
    {
     "name": "stdout",
     "output_type": "stream",
     "text": [
      "Max: 18 or 18\n",
      "Min: -2\n",
      "Range: 20\n"
     ]
    }
   ],
   "source": [
    "#Range\n",
    "\n",
    "x = np.array([-2, 2, 4, 6, 8, 10, 12, 14, 16, 18])\n",
    "\n",
    "print('Max:', x.max(), 'or', np.max(x))\n",
    "print('Min:', x.min()) \n",
    "print('Range:', x.ptp())\n"
   ]
  },
  {
   "cell_type": "code",
   "execution_count": 14,
   "metadata": {},
   "outputs": [
    {
     "name": "stdout",
     "output_type": "stream",
     "text": [
      "Population Variance: 36.96\n",
      "Sample Variance: 41.06666666666667\n",
      "\n",
      "Population Standard Deviation: 6.079473661428265\n",
      "Sample Variance: 6.408327915038889\n"
     ]
    }
   ],
   "source": [
    "#Variance and Standard Deviation\n",
    "\n",
    "x = np.array([-2, 2, 4, 6, 8, 10, 12, 14, 16, 18])\n",
    "\n",
    "print('Population Variance:', x.var(ddof=0))\n",
    "\n",
    "print('Sample Variance:', x.var(ddof=1))\n",
    "\n",
    "print('\\nPopulation Standard Deviation:', x.std(ddof=0))\n",
    "\n",
    "print('Sample Variance:', x.std(ddof=1))"
   ]
  },
  {
   "cell_type": "code",
   "execution_count": 15,
   "metadata": {},
   "outputs": [
    {
     "name": "stdout",
     "output_type": "stream",
     "text": [
      "Outcome: [ 2  3  4  5  6  7  8  9 10 11 12]\n",
      "\n",
      "Probability: [0.028 0.056 0.083 0.111 0.139 0.167 0.139 0.111 0.083 0.056 0.028]\n",
      "\n",
      "Variance: 5.833333333333333\n",
      "\n",
      "Standard Deviation: 2.41522945769824\n"
     ]
    }
   ],
   "source": [
    "#Variance Probability Distibution\n",
    "\n",
    "x = np.arange(2, 13, 1)\n",
    "print('Outcome:', x)\n",
    "\n",
    "px = np.array([(i+1)/36 for i in range(6)])  #Direct coding\n",
    "aux = np.flip(px[0:5])\n",
    "px = np.append(px,aux)\n",
    "print('\\nProbability:',np.round(px,3))\n",
    "\n",
    "mean = np.dot(x,px)\n",
    "var = np.dot(px,(x - mean)**2)\n",
    "print('\\nVariance:', var)\n",
    "print('\\nStandard Deviation:', var**0.5)"
   ]
  },
  {
   "cell_type": "code",
   "execution_count": 31,
   "metadata": {},
   "outputs": [
    {
     "name": "stdout",
     "output_type": "stream",
     "text": [
      "Type: <class 'pandas.core.series.Series'>\n",
      "\n",
      "Mean Absolute Deviation: 5.2\n"
     ]
    }
   ],
   "source": [
    "x = np.array([-2, 2, 4, 6, 8, 10, 12, 14, 16, 18])\n",
    "\n",
    "x = pd.Series(x) #Need to transform data into series\n",
    "\n",
    "print('Type:', type(x))\n",
    "print('\\nMean Absolute Deviation:', x.mad())"
   ]
  },
  {
   "cell_type": "markdown",
   "metadata": {},
   "source": [
    "# Descriptive plots"
   ]
  },
  {
   "cell_type": "code",
   "execution_count": 55,
   "metadata": {},
   "outputs": [
    {
     "data": {
      "text/plain": [
       "(array([4., 5., 3., 8., 2., 5., 6., 8., 4., 5.]),\n",
       " array([1.02826112, 1.92461944, 2.82097777, 3.71733609, 4.61369442,\n",
       "        5.51005274, 6.40641107, 7.3027694 , 8.19912772, 9.09548605,\n",
       "        9.99184437]),\n",
       " <a list of 10 Patch objects>)"
      ]
     },
     "execution_count": 55,
     "metadata": {},
     "output_type": "execute_result"
    },
    {
     "data": {
      "image/png": "[encoded data removed]",
      "text/plain": [
       "<Figure size 432x288 with 1 Axes>"
      ]
     },
     "metadata": {
      "needs_background": "light"
     },
     "output_type": "display_data"
    }
   ],
   "source": [
    "#Histogram\n",
    "\n",
    "x = np.random.uniform(1,10,50)\n",
    "plt.hist(x)"
   ]
  },
  {
   "cell_type": "code",
   "execution_count": 56,
   "metadata": {},
   "outputs": [
    {
     "data": {
      "image/png": "[encoded data removed]",
      "text/plain": [
       "<Figure size 432x288 with 1 Axes>"
      ]
     },
     "metadata": {
      "needs_background": "light"
     },
     "output_type": "display_data"
    }
   ],
   "source": [
    "x = np.random.uniform(1,10,50)\n",
    "n, bins, patches = plt.hist(x)"
   ]
  },
  {
   "cell_type": "code",
   "execution_count": 68,
   "metadata": {},
   "outputs": [
    {
     "data": {
      "image/png": "[encoded data removed]",
      "text/plain": [
       "<Figure size 432x288 with 1 Axes>"
      ]
     },
     "metadata": {
      "needs_background": "light"
     },
     "output_type": "display_data"
    }
   ],
   "source": [
    "mu = 10\n",
    "sigma = 3\n",
    "\n",
    "x = np.random.uniform(1,10,50)\n",
    "num_bins = 9\n",
    "n, bins, patches = plt.hist(x, num_bins, facecolor='red',edgecolor='black', alpha=0.5)\n",
    "\n",
    "plt.show()"
   ]
  },
  {
   "cell_type": "code",
   "execution_count": 82,
   "metadata": {},
   "outputs": [
    {
     "data": {
      "text/plain": [
       "[<matplotlib.lines.Line2D at 0x1c983ba4278>]"
      ]
     },
     "execution_count": 82,
     "metadata": {},
     "output_type": "execute_result"
    },
    {
     "data": {
      "image/png": "[encoded data removed]",
      "text/plain": [
       "<Figure size 432x288 with 1 Axes>"
      ]
     },
     "metadata": {
      "needs_background": "light"
     },
     "output_type": "display_data"
    }
   ],
   "source": [
    "from scipy.stats import norm #importing the function normal only\n",
    "\n",
    "mu = 10\n",
    "sigma = 3\n",
    "\n",
    "x = np.random.normal(mu,sigma,50) #Data for histogram\n",
    "\n",
    "a = np.linspace(mu - 3*sigma, mu + 3*sigma, 100) #Data for normal curve\n",
    "z =  norm.pdf(a, mu, sigma)\n",
    "\n",
    "n, bins, patches = plt.hist(x, num_bins, facecolor='red',edgecolor='black', alpha=0.5, density = True)\n",
    "plt.plot(a, z, color = 'blue')\n",
    "#x = mu + sigma * np.random.randn(50)"
   ]
  },
  {
   "cell_type": "code",
   "execution_count": 88,
   "metadata": {},
   "outputs": [
    {
     "data": {
      "image/png": "[encoded data removed]",
      "text/plain": [
       "<Figure size 648x432 with 1 Axes>"
      ]
     },
     "metadata": {
      "needs_background": "light"
     },
     "output_type": "display_data"
    }
   ],
   "source": [
    "#Box plots\n",
    "\n",
    "V1 = np.random.normal(10,3,50) #Data for histogram\n",
    "V2 = np.random.uniform(1,10,50)\n",
    "V3 = np.random.normal(12, 2, 70)\n",
    "V4 = np.random.uniform(5, 15, 60)\n",
    "\n",
    "Data = [V1, V2, V3, V4] # Combine collections into a list\n",
    "\n",
    "fig = plt.figure(1, figsize=(9, 6))\n",
    "\n",
    "# Create an axes instance\n",
    "ax = fig.add_subplot(111)\n",
    "\n",
    "# Create the boxplot\n",
    "bp = ax.boxplot(Data)"
   ]
  },
  {
   "cell_type": "code",
   "execution_count": 89,
   "metadata": {},
   "outputs": [
    {
     "name": "stdout",
     "output_type": "stream",
     "text": [
      "Covariance:\n",
      " [[ 94.73018266  96.07013392]\n",
      " [ 96.07013392 119.52221037]]\n"
     ]
    },
    {
     "data": {
      "image/png": "[encoded data removed]",
      "text/plain": [
       "<Figure size 432x288 with 1 Axes>"
      ]
     },
     "metadata": {
      "needs_background": "light"
     },
     "output_type": "display_data"
    }
   ],
   "source": [
    "#Two variable correlation\n",
    "\n",
    "V1 = np.random.normal(50,10,100) #Random values\n",
    "V2 = V1 + np.random.normal(10,5,100) #Correlatet with normal random noise\n",
    "\n",
    "chrt = plt.scatter(V1, V2)\n",
    "\n",
    "print('Covariance:\\n', np.cov(V1, V2) )"
   ]
  },
  {
   "cell_type": "code",
   "execution_count": 91,
   "metadata": {},
   "outputs": [
    {
     "name": "stdout",
     "output_type": "stream",
     "text": [
      "Pearsons: 0.05930504060127787 P-value: 0.557801242980964\n",
      "Pearsons: 0.018613861386138613 P-value: 0.8541591376781779\n"
     ]
    },
    {
     "data": {
      "image/png": "[encoded data removed]",
      "text/plain": [
       "<Figure size 432x288 with 1 Axes>"
      ]
     },
     "metadata": {
      "needs_background": "light"
     },
     "output_type": "display_data"
    }
   ],
   "source": [
    "#Correlation coefficients\n",
    "\n",
    "from scipy.stats import pearsonr, spearmanr #Import two functions\n",
    "\n",
    "V1 = np.random.normal(50,10,100) #Random values\n",
    "V2 = np.random.normal(10,5,100) #Correlatet with normal random noise\n",
    "\n",
    "corr, pvalue = pearsonr(V1,V2)\n",
    "print('Pearsons:', corr , 'P-value:', pvalue)\n",
    "\n",
    "corr, pvalue = spearmanr(V1,V2)\n",
    "print('Pearsons:', corr , 'P-value:', pvalue)\n",
    "\n",
    "chrt = plt.scatter(V1, V2)"
   ]
  },
  {
   "cell_type": "code",
   "execution_count": 92,
   "metadata": {},
   "outputs": [
    {
     "name": "stdout",
     "output_type": "stream",
     "text": [
      "Data shape: (5, 100)\n",
      "\n",
      "Variance Covariace Matrix:\n",
      " [[ 95.03386977  94.02237376  89.50737347  93.14316666 -13.49897253]\n",
      " [ 94.02237376 119.40462427 115.80407134  92.30237577 -17.63553663]\n",
      " [ 89.50737347 115.80407134 139.48513547  87.55436239 -18.3372711 ]\n",
      " [ 93.14316666  92.30237577  87.55436239  95.07075955 -18.52668595]\n",
      " [-13.49897253 -17.63553663 -18.3372711  -18.52668595 110.37770569]]\n",
      "\n",
      "Spearman Correlation Coeficient:\n",
      " [[ 1.          0.88263558  0.77741988  0.97991478 -0.13180164]\n",
      " [ 0.88263558  1.          0.89732401  0.86632097 -0.15361634]\n",
      " [ 0.77741988  0.89732401  1.          0.76030937 -0.1477849 ]\n",
      " [ 0.97991478  0.86632097  0.76030937  1.         -0.18085627]\n",
      " [-0.13180164 -0.15361634 -0.1477849  -0.18085627  1.        ]]\n"
     ]
    }
   ],
   "source": [
    "#Variance covariance matrix\n",
    "\n",
    "V1 = np.random.normal(50,10,100) #Random values\n",
    "V2 = V1 + np.random.normal(10,5,100) #Correlatet with normal random noise\n",
    "V3 = V2 - np.random.normal(20,5,100) #Correlatet with normal random noise\n",
    "V4 = V1 + np.random.normal(5,2,100) #Correlatet with normal random noise\n",
    "V5 = np.random.normal(50,10,100) #Random values\n",
    "\n",
    "x = np.stack((V1, V2, V3, V4, V5)) #Each row is a variable\n",
    "\n",
    "print('Data shape:',x.shape)\n",
    "\n",
    "print('\\nVariance Covariace Matrix:\\n', np.cov(x)) \n",
    "\n",
    "print('\\nSpearman Correlation Coeficient:\\n', np.corrcoef(x)) \n"
   ]
  }
 ],
 "metadata": {
  "kernelspec": {
   "display_name": "Python 3",
   "language": "python",
   "name": "python3"
  },
  "language_info": {
   "codemirror_mode": {
    "name": "ipython",
    "version": 3
   },
   "file_extension": ".py",
   "mimetype": "text/x-python",
   "name": "python",
   "nbconvert_exporter": "python",
   "pygments_lexer": "ipython3",
   "version": "3.7.3"
  }
 },
 "nbformat": 4,
 "nbformat_minor": 2
}
